{
 "cells": [
  {
   "cell_type": "markdown",
   "source": [
    "# Spike Response Plasticity\n",
    "\n",
    "Use examples for the spike response plasticity (SRP) model.\n",
    "\n",
    "## Content:\n",
    "1. Creating an SRP synapse object\n",
    "2. Running the model\n",
    "3. Parameter inference\n",
    "4. Using pre-parameterized models\n"
   ],
   "metadata": {
    "collapsed": false
   }
  }
 ],
 "metadata": {
  "kernelspec": {
   "display_name": "Python 3",
   "language": "python",
   "name": "python3"
  },
  "language_info": {
   "codemirror_mode": {
    "name": "ipython",
    "version": 2
   },
   "file_extension": ".py",
   "mimetype": "text/x-python",
   "name": "python",
   "nbconvert_exporter": "python",
   "pygments_lexer": "ipython2",
   "version": "2.7.6"
  }
 },
 "nbformat": 4,
 "nbformat_minor": 0
}